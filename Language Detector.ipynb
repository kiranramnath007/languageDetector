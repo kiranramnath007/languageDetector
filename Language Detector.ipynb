{
 "cells": [
  {
   "cell_type": "code",
   "execution_count": 4,
   "metadata": {},
   "outputs": [],
   "source": [
    "# -*- coding: utf-8 -*-\n",
    "\"\"\"\n",
    "Created on Fri Jun 15 14:21:59 2018\n",
    "This Language detector model detects seven languages that largely use the Latin\n",
    "script(English, German, French, Italian, Spanish, Portuguese, Dutch). It is \n",
    "implemented using a Multiclass Random Forest text classifier using words, \n",
    "bigrams, and trigrams as features. To optimize training and testing performance\n",
    "by reducing number of features,a corpus of 300,000 sentences for each language \n",
    "is leveraged from Leipzig Corpus and the 50 most frequent words, bigrams, and \n",
    "trigrams are shortlisted as features. The dataframe creation is slightly \n",
    "complicated, but it is highly vectorized to speed up performance. All train and\n",
    "test datapoints are then represented in the reduced feature-space. A model \n",
    "trained on 5,000 sentences from each language takes less than 2 minutes to \n",
    "train, and performs at 98% accuracy. \n",
    "To replicate the environment, place the following data files sourced from \n",
    "http://wortschatz.uni-leipzig.de/en/download in a directory, and assign that to \n",
    "'dirname'\n",
    "1. deu_mixed-typical_2011_300K-sentences.txt\n",
    "2. eng_news_2005_300K-sentences.txt\n",
    "3. fra_mixed_2009_300K-sentences.txt\n",
    "4. ita_mixed-typical_2017_300K-sentences.txt\n",
    "5. nld_mixed_2012_300K-sentences.txt\n",
    "6. por_newscrawl_2011_300K-sentences.txt\n",
    "7. spa_news_2006_300K-sentences.txt\n",
    "\n",
    "Novel ideas - shortlisting features based on frequency to quicken random forest performance\n",
    "\n",
    "Scope for improvement -  Need to prune feature space to further remove  \n",
    "redundancies. One approach could be through the use of maximal substrings.\n",
    "For eg - the trigram ' a ' will be a substring of ' a' always and can be removed\n",
    "\n",
    "@author: Kiran Ramnath\n",
    "Applicant ID - 201806110737_RamnathKiran\n",
    "\"\"\"\n",
    "import pandas as pd\n",
    "from string import punctuation\n",
    "import time\n",
    "import numpy as np\n",
    "import gc\n",
    "from collections import Counter\n",
    "from sklearn.ensemble import RandomForestClassifier\n",
    "from sklearn.feature_extraction.text import CountVectorizer\n",
    "from sklearn.model_selection import train_test_split\n",
    "from sklearn import preprocessing\n",
    "from sklearn.metrics import classification_report\n",
    "from sklearn.metrics import confusion_matrix\n",
    "import matplotlib.pyplot as plt\n",
    "import seaborn as sns\n",
    "from gensim.corpora import Dictionary\n",
    "from gensim.matutils import sparse2full"
   ]
  },
  {
   "cell_type": "code",
   "execution_count": 5,
   "metadata": {},
   "outputs": [],
   "source": [
    "dirname='C:/Personal/R/UKP/Data/'"
   ]
  },
  {
   "cell_type": "code",
   "execution_count": 6,
   "metadata": {},
   "outputs": [],
   "source": [
    "#%% Read tab separated files\n",
    "\n",
    "def read_file(path):\n",
    "\n",
    "    t=pd.read_fwf(path, delimiter=\"\\t\",header=None)\n",
    "    t[0]=t[0].apply(lambda row: row.split(\"\\t\")[1])\n",
    "\n",
    "    return t"
   ]
  },
  {
   "cell_type": "code",
   "execution_count": 7,
   "metadata": {},
   "outputs": [],
   "source": [
    "#%% function that takes text and n-gram length as input, returns list of tuples of the format [(ngram_count, n-gram)]    \n",
    "    \n",
    "def max_ngram_extracter(sent,num_of_chars):\n",
    "    \n",
    "    ngram_vectorizer=CountVectorizer(input=\"content\",analyzer=\"char_wb\",ngram_range=(num_of_chars,num_of_chars))\n",
    "    ngrams=ngram_vectorizer.fit_transform(sent)\n",
    "    \n",
    "    count_values=ngrams.toarray().sum(axis=0)\n",
    "    vocab = ngram_vectorizer.vocabulary_\n",
    "    counts = sorted([(count_values[i],k) for k,i in vocab.items()], reverse=True)\n",
    "    counts = [(c[1],c[0]) for c in counts]\n",
    "    \n",
    "    return counts"
   ]
  },
  {
   "cell_type": "code",
   "execution_count": 8,
   "metadata": {},
   "outputs": [],
   "source": [
    "#%% function that takes text as input, returns list of tuples of the format [(word_count, word)]\n",
    "    \n",
    "def max_word_extracter(sent):\n",
    "\n",
    "    word_vectorizer=CountVectorizer(input=\"content\",analyzer=\"word\", ngram_range=(1,1))\n",
    "    ngrams=word_vectorizer.fit_transform(sent)\n",
    "    \n",
    "    count_values=ngrams.toarray().sum(axis=0)\n",
    "    vocab = word_vectorizer.vocabulary_\n",
    "    counts = sorted([(count_values[i],k) for k,i in vocab.items()], reverse=True)\n",
    "    counts = [(c[1],c[0]) for c in counts]\n",
    "    \n",
    "    return counts    "
   ]
  },
  {
   "cell_type": "code",
   "execution_count": 9,
   "metadata": {},
   "outputs": [],
   "source": [
    "#%% function that reads all csv files (one per language). Contains language column that will be used as training class \n",
    "#   for the classification algorithm. Returns train and test dataframess, all tuples of bigrams, trigrams, count_words    \n",
    "\n",
    "def language_df_creator(filename,language):    \n",
    "\n",
    "    df=read_file(dirname+filename)\n",
    "    df['language']=language\n",
    "    \n",
    "    #creating train-test split\n",
    "    df_train, df_test = train_test_split(df, test_size=1000, random_state=42)\n",
    "    \n",
    "    #merging all text from train_df in one list to find most frequent words,bigrams and trigrams\n",
    "    \n",
    "    lang_txt=df_train.groupby('language')[0].apply(lambda row: (\" \").join(row))\n",
    "    lang_count_bigrams=max_ngram_extracter(lang_txt,2)\n",
    "    lang_count_trigrams=max_ngram_extracter(lang_txt,3)\n",
    "    lang_count_words=max_word_extracter(lang_txt)\n",
    "    \n",
    "    return df_train, df_test, lang_count_bigrams, lang_count_trigrams, lang_count_words"
   ]
  },
  {
   "cell_type": "code",
   "execution_count": 10,
   "metadata": {},
   "outputs": [],
   "source": [
    "time_start=time.time()\n",
    "\n",
    "#%% Features, training data, test data for English\n",
    "english_df_train, english_df_test, english_count_bigrams, english_count_trigrams, english_count_words = language_df_creator(\"eng_news_2005_300K-sentences.txt\",\"english\")\n",
    "\n",
    "#%% Features, training data, test data for German\n",
    "german_df_train, german_df_test, german_count_bigrams, german_count_trigrams, german_count_words=language_df_creator(\"deu_mixed-typical_2011_300K-sentences.txt\",\"german\")\n",
    "\n",
    "#%% Features, training data, test data for Italian\n",
    "italian_df_train, italian_df_test, italian_count_bigrams, italian_count_trigrams, italian_count_words=language_df_creator(\"ita_mixed-typical_2017_300K-sentences.txt\",\"italian\")\n",
    "\n",
    "#%% Features, training data, test data for Spanish\n",
    "spanish_df_train, spanish_df_test, spanish_count_bigrams, spanish_count_trigrams, spanish_count_words=language_df_creator(\"spa_news_2006_300K-sentences.txt\",\"spanish\")\n",
    "\n",
    "#%% Features, training data, test data for Portuguee\n",
    "portuguese_df_train, portuguese_df_test, portuguese_count_bigrams, portuguese_count_trigrams, portuguese_count_words=language_df_creator(\"por_newscrawl_2011_300K-sentences.txt\",\"portuguese\")\n",
    "\n",
    "#%% Features, training data, test data for French\n",
    "french_df_train, french_df_test, french_count_bigrams, french_count_trigrams, french_count_words = language_df_creator(\"fra_mixed_2009_300K-sentences.txt\",\"french\")\n",
    "\n",
    "#%% Features, training data, test data for Dutch\n",
    "dutch_df_train, dutch_df_test, dutch_count_bigrams, dutch_count_trigrams, dutch_count_words=language_df_creator(\"nld_mixed_2012_300K-sentences.txt\",\"dutch\")\n",
    "\n",
    "time_taken_read=time.time()-time_start"
   ]
  },
  {
   "cell_type": "code",
   "execution_count": 20,
   "metadata": {},
   "outputs": [],
   "source": [
    "#%% creating unique feature-list containing 50 most frequent words, bigrams, trigrams for all languages\n",
    "\n",
    "features=set([f[0] for f in english_count_bigrams[0:50]\n",
    "                        +english_count_words[0:50]\n",
    "                        +english_count_trigrams[0:50]\n",
    "                        +german_count_bigrams[0:50]\n",
    "                        +german_count_trigrams[0:50]\n",
    "                        +german_count_words[0:50]\n",
    "                        +italian_count_bigrams[0:50]\n",
    "                        +italian_count_trigrams[0:50]\n",
    "                        +italian_count_words[0:50]\n",
    "                        +spanish_count_bigrams[0:50]\n",
    "                        +spanish_count_trigrams[0:50]\n",
    "                        +spanish_count_words[0:50]\n",
    "                        +portuguese_count_bigrams[0:50]\n",
    "                        +portuguese_count_trigrams[0:50]\n",
    "                        +portuguese_count_words[0:50]\n",
    "                        +french_count_bigrams[0:50]\n",
    "                        +french_count_trigrams[0:50]\n",
    "                        +french_count_words[0:50]\n",
    "                        +dutch_count_bigrams[0:50]\n",
    "                        +dutch_count_trigrams[0:50]\n",
    "                        +dutch_count_words[0:50]\n",
    "                        if f[0] not in punctuation]) "
   ]
  },
  {
   "cell_type": "code",
   "execution_count": 21,
   "metadata": {},
   "outputs": [],
   "source": [
    "#%% Using Gensim's dictionary object to store features. This allows us to \n",
    "    #create dense vectors for all datapoints efficiently, speeding up data creation\n",
    "    \n",
    "dct=Dictionary([list(features)])\n",
    "\n",
    "#re-assigning features because gensim creates dictionary in alphabetical order\n",
    "features=list(dct.token2id.keys())"
   ]
  },
  {
   "cell_type": "code",
   "execution_count": 22,
   "metadata": {},
   "outputs": [],
   "source": [
    "#%% 5,000 sentences from each each language is used to train the classification model \n",
    "\n",
    "english_df_train_frac=english_df_train.sample(n=5000,random_state=42)\n",
    "german_df_train_frac=german_df_train.sample(n=5000,random_state=42)\n",
    "italian_df_train_frac=italian_df_train.sample(n=5000,random_state=42)\n",
    "spanish_df_train_frac=spanish_df_train.sample(n=5000,random_state=42)\n",
    "portuguese_df_train_frac=portuguese_df_train.sample(n=5000,random_state=42)\n",
    "french_df_train_frac=french_df_train.sample(n=5000,random_state=42)\n",
    "dutch_df_train_frac=dutch_df_train.sample(n=5000,random_state=42)\n",
    "#%%\n",
    "train_df=pd.concat([english_df_train_frac,german_df_train_frac,\n",
    "                    italian_df_train_frac,spanish_df_train_frac, \n",
    "                    portuguese_df_train_frac,french_df_train_frac,dutch_df_train_frac], \n",
    "                   ignore_index=True)"
   ]
  },
  {
   "cell_type": "code",
   "execution_count": 23,
   "metadata": {},
   "outputs": [
    {
     "name": "stdout",
     "output_type": "stream",
     "text": [
      "                                                text language    a   a    al  \\\n",
      "0  \"The Ralph Lauren restaurant is right down the...  english  0.0  0.0  0.0   \n",
      "1  I think not everybody understands this coopera...  english  0.0  0.0  0.0   \n",
      "2  After a long walk you may like to sit and eat ...  english  0.0  0.0  0.0   \n",
      "3  All but one has moved up into the big track, m...  english  0.0  0.0  0.0   \n",
      "4  Once a new district office is finished, offici...  english  0.0  0.0  0.0   \n",
      "\n",
      "    an   au    b   be    c ...   ã¨    ã©  ã©    ã³  ã³   ã³n  ãµes   ã¼  \\\n",
      "0  0.0  0.0  0.0  0.0  0.0 ...   0.0  0.0  0.0  0.0  0.0  0.0   0.0  0.0   \n",
      "1  0.0  0.0  0.0  0.0  0.0 ...   0.0  0.0  0.0  0.0  0.0  0.0   0.0  0.0   \n",
      "2  0.0  0.0  0.0  0.0  0.0 ...   0.0  0.0  0.0  0.0  0.0  0.0   0.0  0.0   \n",
      "3  0.0  0.0  0.0  0.0  0.0 ...   0.0  0.0  0.0  0.0  0.0  0.0   0.0  0.0   \n",
      "4  0.0  0.0  0.0  0.0  0.0 ...   0.0  0.0  0.0  0.0  0.0  0.0   0.0  0.0   \n",
      "\n",
      "   ã¼ber   ãˆ  \n",
      "0    0.0  0.0  \n",
      "1    0.0  0.0  \n",
      "2    0.0  0.0  \n",
      "3    0.0  0.0  \n",
      "4    0.0  0.0  \n",
      "\n",
      "[5 rows x 544 columns]\n"
     ]
    }
   ],
   "source": [
    "#%% create dataframe for all training sentences containing unique features as columns \n",
    "\n",
    "def create_dataframe_rf(df):\n",
    "\n",
    "    df.rename(columns={0:\"text\"}, inplace=True)\n",
    "    zero_data=np.zeros(shape=(len(df),len(features)))\n",
    "    feature_df=pd.DataFrame(zero_data,index=df.index, columns=features)\n",
    "    df=pd.concat([df,feature_df],axis=1)\n",
    "\n",
    "    return df\n",
    "\n",
    "train_df=create_dataframe_rf(train_df)\n",
    "print (train_df.head())"
   ]
  },
  {
   "cell_type": "code",
   "execution_count": 24,
   "metadata": {},
   "outputs": [
    {
     "data": {
      "text/plain": [
       "2543"
      ]
     },
     "execution_count": 24,
     "metadata": {},
     "output_type": "execute_result"
    }
   ],
   "source": [
    "#%% Free up memory, perform garbage collection\n",
    "del german_df_train, french_df_train, english_df_train, dutch_df_train, spanish_df_train, italian_df_train\n",
    "gc.collect()"
   ]
  },
  {
   "cell_type": "code",
   "execution_count": 25,
   "metadata": {},
   "outputs": [
    {
     "data": {
      "text/plain": [
       "LabelEncoder()"
      ]
     },
     "execution_count": 25,
     "metadata": {},
     "output_type": "execute_result"
    }
   ],
   "source": [
    "#%% label encoder applies integer labels to all classes\n",
    "\n",
    "languages=['english','dutch','german','italian','spanish','portuguese','french']\n",
    "\n",
    "#create flags on the basis of language\n",
    "le = preprocessing.LabelEncoder()    \n",
    "le.fit(languages)"
   ]
  },
  {
   "cell_type": "code",
   "execution_count": 27,
   "metadata": {},
   "outputs": [],
   "source": [
    "#%% create features for all sentences, find and populate shortlisted feature columns\n",
    "#   This is the most time consuming step. \n",
    "\n",
    "def feature_creator(df):    \n",
    "\n",
    "    #Using Gensim utility function to populate training dataset\n",
    "    bag_of_words=df['text'].apply(lambda row: sparse2full([(dct.token2id[m[0]],m[1]) for m in max_word_extracter([row]) if m[0] in dct.token2id], length=len(features)))\n",
    "    bag_of_words=np.array(bag_of_words.tolist()).astype(int)\n",
    "\n",
    "    bag_of_bigrams=df['text'].apply(lambda row: sparse2full([(dct.token2id[m[0]],m[1]) for m in max_ngram_extracter([row],2) if m[0] in dct.token2id], length=len(features)))        \n",
    "    bag_of_bigrams=np.array(bag_of_bigrams.tolist()).astype(int)\n",
    "\n",
    "    bag_of_trigrams=df['text'].apply(lambda row: sparse2full([(dct.token2id[m[0]],m[1]) for m in max_ngram_extracter([row],3) if m[0] in dct.token2id], length=len(features)))\n",
    "    bag_of_trigrams=np.array(bag_of_trigrams.tolist()).astype(int)\n",
    "\n",
    "    #Add matrix representation of words, bigrams, and trigrams components of all vectors\n",
    "    all_features=bag_of_words+bag_of_bigrams+bag_of_trigrams\n",
    "    all_features.astype(int)\n",
    "\n",
    "    #populate train_df with all features\n",
    "    all_features_df=pd.DataFrame(data=all_features, columns=features)\n",
    "    df.update(all_features_df)\n",
    "    \n",
    "    #random forest requires integer labels, so transform text levels to integer levels\n",
    "    df['flag']=le.transform(df['language'])           \n",
    "    print (\"Feature creation finished\")\n",
    "    \n",
    "    return df"
   ]
  },
  {
   "cell_type": "code",
   "execution_count": 29,
   "metadata": {},
   "outputs": [
    {
     "name": "stdout",
     "output_type": "stream",
     "text": [
      "Feature creation finished\n",
      "                                                text language    a   a    al  \\\n",
      "0  \"The Ralph Lauren restaurant is right down the...  english  1.0  0.0  0.0   \n",
      "1  I think not everybody understands this coopera...  english  3.0  1.0  0.0   \n",
      "2  After a long walk you may like to sit and eat ...  english  4.0  1.0  0.0   \n",
      "3  All but one has moved up into the big track, m...  english  7.0  0.0  1.0   \n",
      "4  Once a new district office is finished, offici...  english  1.0  1.0  0.0   \n",
      "\n",
      "    an   au    b   be    c  ...    ã©  ã©    ã³  ã³   ã³n  ãµes   ã¼  ã¼ber  \\\n",
      "0  0.0  0.0  1.0  0.0  0.0  ...   0.0  0.0  0.0  0.0  0.0   0.0  0.0    0.0   \n",
      "1  2.0  0.0  2.0  2.0  2.0  ...   0.0  0.0  0.0  0.0  0.0   0.0  0.0    0.0   \n",
      "2  2.0  0.0  0.0  0.0  0.0  ...   0.0  0.0  0.0  0.0  0.0   0.0  0.0    0.0   \n",
      "3  0.0  0.0  2.0  0.0  2.0  ...   0.0  0.0  0.0  0.0  0.0   0.0  0.0    0.0   \n",
      "4  0.0  0.0  2.0  2.0  0.0  ...   0.0  0.0  0.0  0.0  0.0   0.0  0.0    0.0   \n",
      "\n",
      "    ãˆ  flag  \n",
      "0  0.0     1  \n",
      "1  0.0     1  \n",
      "2  0.0     1  \n",
      "3  0.0     1  \n",
      "4  0.0     1  \n",
      "\n",
      "[5 rows x 545 columns]\n"
     ]
    }
   ],
   "source": [
    "#%%\n",
    "time_start=time.time()\n",
    "train_df = feature_creator(train_df) \n",
    "time_taken_train_df=time.time()-time_start\n",
    "print (train_df.head())"
   ]
  },
  {
   "cell_type": "code",
   "execution_count": 30,
   "metadata": {},
   "outputs": [
    {
     "name": "stdout",
     "output_type": "stream",
     "text": [
      "{' a': 0.0021398472812025997, ' a ': 0.0019054297086754162, ' al': 9.824067500600951e-05, ' an': 0.0008189983634544314, ' au': 0.0003189743698450363, ' b': 0.0004865264561661193, ' be': 0.00022417309506532002, ' c': 0.009599233580994857, ' ca': 0.00013468720795105485, ' co': 0.0015268322216280574, ' d': 0.003205285213865115, \" d'\": 0.0005405038861892551, ' da': 0.0005805063605903156, ' de': 0.0040286467089258775, ' di': 0.0004691687409931829, ' do': 0.0003412779137978535, ' e': 0.0062587053644934535, ' e ': 0.0023501166135839534, ' ee': 0.00587413487669972, ' ei': 0.002543128151634293, ' el': 0.00896703720783127, ' em': 0.00037410368561758634, ' en': 0.0033672323159025957, ' er': 6.222689526763086e-05, ' es': 0.0014779260224022644, ' et': 0.003282367626769566, ' f': 0.0006156806617703851, ' fo': 0.0002466263794185977, ' g': 0.00024519177139714176, ' ge': 0.00042043362607790393, ' h': 0.002345567222132579, ' ha': 0.0005076985764624765, ' he': 0.003578603806513755, ' i': 0.0006340232273589325, ' il': 0.0005169791822128651, ' in': 0.00024069839592032942, ' l': 0.012454258062987993, \" l'\": 0.0021933836298403666, ' la': 0.0057856959431572, ' le': 0.004772049693313093, ' lo': 0.0012786674447799438, ' m': 0.0005195835273403419, ' ma': 0.00012999569112157332, ' me': 0.00026684987620594395, ' n': 0.0004651239333995259, ' no': 0.00013853025630757447, ' o': 0.007422200578653735, ' o ': 0.007765425350663629, ' of': 0.0015726144029827246, ' on': 0.0002887832912532855, ' op': 0.0005762430205967323, ' p': 0.003967059349738625, ' pa': 0.0004311801801865187, ' pe': 0.0007949694675315216, ' po': 0.0002288965002319396, ' pr': 0.00011800288237491215, ' q': 0.002357370767156541, ' qu': 0.002757473849971056, ' re': 0.00010579224597132604, ' ri': 1.5294784295931625e-05, ' s': 0.000691137570663869, ' sa': 0.00016296636968432597, ' se': 0.00030330424007884126, ' si': 0.00015837336029116304, ' so': 7.792597895999286e-05, ' st': 0.00010112471270232786, ' su': 0.0001310255394555299, ' t': 0.00897942421666026, ' te': 0.00019458858126157055, ' th': 0.026582646103692424, ' to': 0.0015158427261348683, ' um': 0.0018736047765711646, ' un': 0.0015136689256116326, ' v': 0.0017118636299879278, ' va': 0.0025691627316742193, ' ve': 6.888097559608478e-05, ' vo': 0.00014184241291648612, ' w': 0.010051127934114786, ' wa': 0.00015343737885870336, ' we': 0.0001762955389922586, ' wh': 0.0003354044052547603, ' wi': 0.00032352746271932536, ' y ': 0.006707587429515607, ' z': 0.0018177379620275855, ' zi': 0.0007583545550696694, ' ã': 0.0023986320101033022, ' ã ': 0.002562592198465, ' ã¨': 0.0002231183038488607, ', ': 0.006511838018699331, '. ': 0.00039149879605272027, 'a ': 0.01955166484288226, 'a. ': 0.00031212759381541035, 'aa': 0.02258009959819774, 'aan': 0.0008997218470060509, 'aar': 0.004169268717342489, 'aber': 3.5141827355318016e-07, 'about': 1.1970771533530732e-05, 'aci': 0.0001555638488340904, 'ad': 0.0030302868330449894, 'ado': 0.0012909428243642975, 'after': 1.2632391440336788e-06, 'ai': 0.005223256372175663, 'ainda': 4.098801531173287e-06, 'al': 0.00041127722996701726, 'al ': 0.00010692728422075751, 'all': 5.25475459518924e-05, 'alla': 3.2070147376849715e-08, 'als': 8.502230733067583e-05, 'also': 4.1998610695417846e-05, 'am': 0.00020859199077619405, 'an': 0.0007388765995328366, 'an ': 0.003317646558433011, 'anche': 0.00013128539994753706, 'ancora': 0.0, 'and': 0.0020979715731677165, 'anos': 6.531194813774206e-06, 'ant': 6.581148011413257e-05, 'ao': 6.128418107017471e-05, 'ar': 0.0007900327030702463, 'ar ': 0.0007081225934694996, 'ara': 0.00026752915726562524, 'are': 2.5837293481789357e-05, 'as': 0.0017314257855294741, 'as ': 0.0017301602127160272, 'at': 0.000536099514351623, 'at ': 0.0003552872677553594, 'ati': 8.89370684976233e-05, 'ato': 6.842510048153302e-05, 'atã': 2.656488125009816e-05, 'au': 0.000998508458680871, 'auch': 8.186154967586328e-06, 'auf': 8.640584912978665e-05, 'aus': 1.2325000355498313e-05, 'aux': 1.584365474063015e-05, 'avec': 6.12183785773295e-06, 'aã': 0.0003219088203888607, 'aã§': 0.0005562252050669831, 'be': 0.0011333709383670818, 'been': 9.884741724606502e-05, 'bei': 8.53232728263497e-05, 'ber': 7.121642787525143e-05, 'bij': 5.7308092099797164e-05, 'but': 2.7166839081354894e-05, 'by': 6.675388327785758e-06, 'ca': 0.0008425289114346549, 'ce': 0.0009196445671144865, 'cette': 5.089311823924877e-06, 'ch': 0.00426302960934677, 'ch ': 0.0014876638423871231, 'che': 0.00046948825117649014, 'cht': 0.0005935261499941224, 'ci': 0.00151260814452506, 'co': 0.0026556748353061084, 'com': 0.00042157170454886145, 'come': 2.279034131190114e-07, 'como': 7.058689755451535e-05, 'con': 0.0003137945879789846, 'cosa': 0.0, 'cuando': 0.0, 'd ': 0.009897534756673002, 'da': 0.0008565224327040234, 'da ': 0.0005935401842535572, 'dal': 4.58938976209079e-06, 'dan': 7.003965732721224e-05, 'dann': 0.0, 'dans': 0.00010090350961067837, 'das': 0.0010567330861131921, 'dat': 0.0004201550950256211, 'de': 0.012464154553620564, 'de ': 0.014038961171924417, 'dei': 0.00010954444614842866, 'del': 0.0007794931809002528, 'dell': 1.5026678239238807e-06, 'della': 3.1417261406176694e-05, 'delle': 4.6797590927868325e-06, 'dem': 3.482398092395525e-05, 'den': 0.00029397191159538216, 'der': 0.0023755663698199836, 'des': 0.0005185147881956533, 'desde': 5.885736924344599e-07, 'deze': 1.6620877477459407e-05, 'di': 0.00043969340196466805, 'di ': 0.0004021468779661848, 'dia': 7.775124754889732e-06, 'die': 0.0058528932784599015, 'diese': 8.347047391774156e-08, 'dijo': 5.880466152631006e-05, 'dit': 2.198722722908729e-05, 'do': 0.0038278845410027397, 'do ': 0.005109165455628767, 'door': 2.0431840467819813e-05, 'dos': 0.00015680046184002934, 'du': 0.00028663370647830907, 'due': 4.372391975020489e-05, 'dã': 0.00042333759913133865, 'e ': 0.006136631966920568, 'e. ': 0.00014315928793549106, 'ed': 0.0012200922398354355, 'ed ': 0.007119635143937255, 'ee': 0.0162334229765665, 'een': 0.006525269114340212, 'eer': 0.0006168506965158594, 'ei': 0.009387249005400241, 'ein': 0.0053710281332357244, 'eine': 7.747304801625769e-05, 'einem': 3.361436307949547e-06, 'einen': 0.0, 'einer': 1.9070462650346402e-06, 'eit': 0.00013937567422550435, 'el': 0.0048980081992978505, 'el ': 0.008375296012311498, 'ele': 0.0002445616943860664, 'ell': 0.00024405558201147782, 'elle': 8.454644605631287e-05, 'em': 0.0010281690248352602, 'em ': 0.003981225197901068, 'en': 0.006512386011523018, 'en ': 0.017416169110793456, 'en.': 0.0009745953121156959, 'ent': 0.00044692586458073636, 'entre': 1.4150570874243653e-06, 'er': 0.0022026108896156336, 'er ': 0.0015930229727097796, 'era': 3.9490991699142134e-05, 'ers': 4.0448462570326684e-05, 'es': 0.003273189781077202, 'es ': 0.0037256025473122634, 'est': 0.0006446971151986635, 'esta': 6.701630265998905e-07, 'este': 9.74534087771324e-07, 'estã': 2.0302526678663182e-05, 'et': 0.002033814382733487, 'et ': 0.007169147335915148, 'eu': 0.0011362089276929276, 'eur': 0.00027862828901646056, 'foi': 0.00016291516150087143, 'for': 0.00025722191850043567, 'from': 4.831399935742239e-05, 'fue': 6.323164227780885e-05, 'fã¼r': 1.0499442319333332e-05, 'ge': 0.003282498219353233, 'gen': 0.00017237771514918695, 'gibt': 6.772400860998839e-06, 'gli': 2.9594722827907062e-05, 'h ': 0.001955358465482553, 'ha': 0.00045119894958095785, 'had': 8.566195415518303e-06, 'han': 1.2811793289283665e-05, 'hanno': 3.3064808838430695e-06, 'has': 3.16911764300496e-05, 'hasta': 1.423609077348397e-07, 'hat': 9.237114743005243e-05, 'have': 2.2965873411797975e-05, 'he': 0.006478010374675073, 'he ': 0.012609771682995766, 'hebben': 1.0371305493172811e-05, 'heeft': 1.342106787044395e-05, 'hen': 0.00014115547640365588, 'her': 7.52024099775139e-05, 'het': 0.005755024304132849, 'hier': 2.9030032287162373e-06, 'hij': 1.2603639840472771e-05, 'his': 6.05967638414226e-05, 'hã': 0.00020062871398530272, 'i ': 0.005081621598589982, 'i. ': 0.0003084272467724154, 'ia': 0.0004879755066693743, 'ia ': 0.00010617788543417235, 'ic': 0.00023853579184115081, 'ich': 0.0010208250398696574, 'ie': 0.0036284525907227696, 'ie ': 0.003958816045454508, 'ij': 0.020277576601456966, 'ik': 9.150212832018033e-05, 'il': 0.0006489841968182124, 'il ': 0.00032090186394675903, 'im': 8.878778248830641e-05, 'in': 0.0009060358299519134, 'in ': 0.00027620256571211167, 'ine': 0.00016032735580381806, 'ing': 0.001397790699150485, 'io': 0.0004611802061746799, 'ion': 0.000509871945815234, 'is': 0.0005801639337166415, 'is ': 0.0008093680667547316, 'isso': 3.1267529579922625e-06, 'ist': 0.00031704907321739056, 'it': 0.00046015968144424, 'its': 1.9344886487277595e-06, 'iã³': 0.004296805906484246, 'jaar': 0.0, 'je': 0.00015937687226666826, 'jã': 3.3125459203632786e-05, 'kan': 6.680553814294769e-06, 'kunnen': 0.0, 'kã': 1.7159127753171696e-06, 'l ': 0.002922750644811023, 'la': 0.005549365150367319, 'la ': 0.005163615680028481, 'las': 0.000504439166623833, 'le': 0.004429298089655481, 'le ': 0.002512639588414911, 'les': 0.0023329053865638254, 'li': 0.00020724206436440433, 'll': 0.0007267226108359587, 'lla': 0.00010489675297796234, 'lo': 0.0006778748863254313, 'los': 0.0025967656556103976, 'lâ': 8.480151998960386e-08, 'lã': 5.522512375202642e-05, 'm ': 0.014585051004298525, 'ma': 0.00032874226423339686, 'maar': 3.6689780459547787e-06, 'mais': 7.948324022654723e-05, 'mas': 2.262476966758644e-05, 'me': 0.0004192341144585248, 'meer': 2.851490263141329e-06, 'men': 0.00010577051305713356, 'met': 0.0002659877703090591, 'mit': 5.2892488198376495e-05, 'molto': 0.0, 'more': 0.0, 'muito': 6.219774298473878e-06, 'mã': 0.0001676197390329914, 'n ': 0.021724172039644003, 'n.': 0.0011676345891791697, 'n. ': 0.0009190969951085137, 'na': 0.00029069875359524273, 'na ': 0.0002584996136524036, 'naar': 3.7289886247359154e-06, 'nach': 2.1353864691470024e-06, 'nd': 0.000434090446729944, 'nd ': 0.0015372712071970596, 'nde': 0.00016614678678839482, 'ne': 0.00041377771025259154, 'ne ': 0.0004168792950288486, 'nel': 4.5170143618534155e-05, 'nella': 8.922911100089539e-09, 'new': 1.5053872154313502e-06, 'ng': 0.0011048422539325247, 'ng ': 0.0016894342804839168, 'nicht': 5.185066757934967e-06, 'niet': 0.00011637615747180388, 'no': 0.00044984857082801065, 'no ': 0.0004938328267301795, 'noch': 5.685775377261307e-07, 'nog': 8.190982293424626e-06, 'non': 0.00024846535888889225, 'nos': 3.709444304456617e-05, 'not': 1.6646804404295414e-05, 'nous': 4.6818272332777216e-06, 'ns': 0.00037932146602499703, 'ns ': 0.0007546435163697154, 'nt': 0.0007592943535452876, 'nt ': 0.007493904668517501, 'nte': 0.00018689796137385379, 'nur': 1.644527667597827e-06, 'nã': 0.0005594930309387956, 'o ': 0.030647134377054276, 'o, ': 0.00015437319199425174, 'o. ': 0.0004830416283251754, 'of': 0.0023260662362129033, 'of ': 0.0017431192344096015, 'oggi': 5.739897562000414e-07, 'om': 0.0002600021570095011, 'on': 0.0013573844345751112, 'on ': 0.0009713281720183114, 'one': 0.00011615939942907427, 'ono': 4.8532814435980335e-05, 'ont': 9.122466856556843e-05, 'oo': 0.006291499485441284, 'ook': 3.9457638440237104e-05, 'oor': 0.003692086718399263, 'op': 0.0007666322667386819, 'or': 0.000605504132895615, 'or ': 0.0008814518624265603, 'ora': 2.7717858091552064e-05, 'os': 0.004723508377993286, 'os ': 0.011749261704258723, 'ou': 0.009954072727543508, 'our': 0.0017338507818982047, 'out': 5.283552715427431e-05, 'over': 1.0993395739118763e-05, 'par': 0.00017389996808401062, 'para': 0.0004521671124328531, 'pas': 6.950780093184078e-05, 'paã': 3.875953166406427e-06, 'pela': 1.518056309259648e-05, 'pelo': 1.3548788254644992e-05, 'per': 0.0010134573026376432, 'pero': 3.555880691882367e-05, 'piã¹': 7.154173400992326e-08, 'plus': 5.553884248784405e-06, 'poi': 6.378784106070999e-06, 'polã': 4.762667416364724e-07, 'por': 0.0003254492339812984, 'pour': 0.00018306292270829484, 'prã': 2.27025119685268e-05, 'qu': 0.005209932522760211, 'quando': 2.769731741544747e-06, 'que': 0.005166957892494724, 'questo': 1.268619023907816e-05, 'qui': 6.860578431950343e-05, 'r ': 0.00607171690387627, 'ra': 0.0008170472970215395, 'ra ': 0.000474515839131012, 'rde': 0.00018208286361309943, 're': 0.0006822073506349235, 're ': 0.00037736956106073646, 'res': 8.289570599757109e-05, 'ri': 0.0002713481609529578, 'rio': 2.2399307094313273e-05, 'ro': 0.00029498206162548965, 'rã': 0.000765561707652927, 'rã©': 0.0021724760165855585, 's ': 0.024182958013086286, 'sa': 0.0001851339102914982, 'said': 0.000311216791095382, 'sc': 0.00015601339069297974, 'sch': 0.0012604125659238024, 'se': 0.0005608570036450551, 'se ': 0.00016778959001556294, 'ser': 1.809431802629404e-05, 'ses': 8.776808724429843e-06, 'seu': 1.5729217905396755e-05, 'she': 4.873397268212854e-06, 'si': 0.0002601329907981422, 'sich': 3.3065546904291865e-06, 'sie': 0.00016507129565313187, 'sin': 1.876053183774991e-05, 'sind': 3.8991285623963025e-05, 'sobre': 7.432645052087658e-08, 'solo': 3.6179710350326547e-07, 'son': 7.008407613715949e-05, 'sono': 1.2381630348335725e-05, 'sont': 9.182813241202385e-06, 'st': 0.0003726713048768057, 'st ': 0.0006527292329336364, 'sta': 9.089716488705394e-05, 'stata': 0.0, 'stato': 1.2247669197885604e-06, 'ste': 5.3613593164688804e-05, 'su': 0.00016514914237927543, 'sua': 4.20664813379123e-06, 'sul': 7.969465892848658e-07, 'sur': 6.736652877423453e-05, 'sus': 7.759630539648231e-06, 'sã': 6.247481481286841e-05, 't ': 0.03716674848719209, 't. ': 0.00030847592411664904, 'ta': 0.0004311075731758488, 'ta ': 0.00025296289423299025, 'tambiã': 4.9231158803093705e-05, 'tambã': 1.2534521329361408e-05, 'te': 0.000573610953486443, 'te ': 0.00016259265387547924, 'tem': 1.7607246044585533e-05, 'ten': 9.896328329352966e-05, 'ter': 6.957194726892056e-05, 'th': 0.021208850509536473, 'th ': 0.00023834143447851655, 'that': 7.224583394928189e-05, 'the': 0.02165838054854843, 'their': 1.3913028272385464e-05, 'they': 5.295292770190959e-07, 'this': 7.4370893697953015e-06, 'ti': 0.000336985130438053, 'ti ': 0.00010797570727064088, 'tiene': 1.9100802624902808e-06, 'tio': 0.0011478891011496698, 'to': 0.002429767693521739, 'to ': 0.0024427121816039486, 'todo': 2.1807752603558483e-06, 'tot': 1.7561249331019928e-05, 'tr': 0.00023976928098225412, 'tutto': 0.0, 'two': 3.2950646490137816e-06, 'tã': 0.00022124789931138647, 'tã©': 0.0006811578086624362, 'ue': 0.004232707210241884, 'ue ': 0.002664401022599515, 'uit': 0.00010201042826558048, 'um': 0.0009148595512065911, 'uma': 0.00023287357110768372, 'un': 0.00111816535923443, 'una': 0.0003742585844807801, 'und': 0.00022202233454384358, 'une': 0.00043674096329312015, 'ung': 0.0008038332297637245, 'up': 9.471237434162905e-06, 'ur': 0.0015930470636955792, 'ur ': 0.002073395649644099, 'va': 0.0017683019919531298, 'van': 0.005255456485422338, 've': 0.00030845425914411914, 'vel': 4.67112239633065e-05, 'ver': 9.568648804217958e-05, 'von': 3.12827467539977e-05, 'voo': 0.0008755429488086932, 'voor': 0.00020423247802992198, 'war': 4.390765616007732e-05, 'was': 6.36580282184362e-05, 'wat': 1.2053423519442845e-05, 'we': 0.0008162410194071204, 'werd': 8.737932282857047e-07, 'werden': 2.155621101345475e-05, 'were': 2.1296716590899756e-06, 'who': 8.39619739319772e-06, 'will': 5.353451146107929e-06, 'wir': 0.0001680255452408011, 'wird': 8.150923309073132e-05, 'with': 3.773351136167769e-05, 'worden': 1.650673006993959e-05, 'wordt': 1.4726115749695989e-05, 'would': 3.3913954709760455e-06, 'wurde': 0.0001620374537146294, 'y ': 0.012024063145798493, 'ya': 5.472291343462832e-05, 'yahoo': 4.042835685480993e-05, 'year': 1.827432030827431e-06, 'ze': 0.00024476876478423445, 'zijn': 0.0003320296855433297, 'zio': 9.420290565461417e-05, 'zo': 0.00016874872781315727, 'zu': 0.00018089034198573962, '£o': 0.01117257121632684, '£o ': 0.00842210691042551, '§ã£': 0.0005162975553976463, '³n ': 0.0007590214711765286, 'ã£': 0.013523926590408948, 'ã£o': 0.013936140856172329, 'ã§ã': 0.0009788315998830058, 'ã¨ ': 0.00023828058531523172, 'ã©': 0.03103963175388955, 'ã© ': 0.0019518202739113222, 'ã³': 0.013889620641373807, 'ã³ ': 0.0011191515198218443, 'ã³n': 0.0020762632073811358, 'ãµes': 1.0948112070579848e-05, 'ã¼': 0.0021362968219481603, 'ã¼ber': 5.0923813955087256e-08, 'ãˆ': 1.374177288238049e-06}\n"
     ]
    }
   ],
   "source": [
    "def random_forest(train_df, number_of_estimators):\n",
    "        \n",
    "    # Random Forest Model \n",
    "    clf_rforest = RandomForestClassifier(n_estimators=number_of_estimators, random_state=1, min_samples_leaf=5, max_depth=30)\n",
    "    clf_rforest.fit(train_df[features], train_df['flag'])\n",
    "\n",
    "    # Importance of features\n",
    "    rforest_importances = clf_rforest.feature_importances_\n",
    "    rforest_importances = dict(zip(features,rforest_importances))\n",
    "\n",
    "    return clf_rforest, rforest_importances\n",
    "\n",
    "time_start=time.time()\n",
    "clf_rforest, rforest_importances=random_forest(train_df, 500)\n",
    "time_taken_rf=time.time()-time_start\n",
    "print (rforest_importances)"
   ]
  },
  {
   "cell_type": "code",
   "execution_count": 31,
   "metadata": {},
   "outputs": [],
   "source": [
    "#%% create test set containing 1000 sentences from each language\n",
    "\n",
    "test_df=pd.concat([english_df_test,german_df_test,italian_df_test,spanish_df_test,\n",
    "                        portuguese_df_test,french_df_test,dutch_df_test], ignore_index=True)"
   ]
  },
  {
   "cell_type": "code",
   "execution_count": 32,
   "metadata": {},
   "outputs": [],
   "source": [
    "# Process of creating features for scoring dataset\n",
    "def scoring_df(test_df):\n",
    "\n",
    "    test_df=create_dataframe_rf(test_df)\n",
    "    test_df=feature_creator(test_df)\n",
    "\n",
    "    return test_df"
   ]
  },
  {
   "cell_type": "code",
   "execution_count": 33,
   "metadata": {},
   "outputs": [
    {
     "name": "stdout",
     "output_type": "stream",
     "text": [
      "Feature creation finished\n"
     ]
    }
   ],
   "source": [
    "#%%\n",
    "time_start=time.time()\n",
    "test_df=scoring_df(test_df)\n",
    "time_taken_test_df=time.time()-time_start"
   ]
  },
  {
   "cell_type": "code",
   "execution_count": 34,
   "metadata": {
    "collapsed": true
   },
   "outputs": [
    {
     "name": "stderr",
     "output_type": "stream",
     "text": [
      "C:\\Tools\\Anaconda\\lib\\site-packages\\sklearn\\preprocessing\\label.py:151: DeprecationWarning: The truth value of an empty array is ambiguous. Returning False, but in future this will result in an error. Use `array.size > 0` to check that an array is not empty.\n",
      "  if diff:\n"
     ]
    }
   ],
   "source": [
    "#%%\n",
    "time_start=time.time()\n",
    "test_df['prediction']=le.inverse_transform(clf_rforest.predict(test_df[features]))\n",
    "time_taken_score=time.time()-time_start    "
   ]
  },
  {
   "cell_type": "code",
   "execution_count": 35,
   "metadata": {},
   "outputs": [
    {
     "name": "stdout",
     "output_type": "stream",
     "text": [
      "             precision    recall  f1-score   support\n",
      "\n",
      "    english       0.99      0.98      0.98      1000\n",
      "      dutch       0.99      0.98      0.99      1000\n",
      "     german       0.99      0.97      0.98      1000\n",
      "    italian       0.96      0.98      0.97      1000\n",
      "    spanish       0.92      0.99      0.96      1000\n",
      " portuguese       0.98      0.97      0.98      1000\n",
      "     french       1.00      0.96      0.98      1000\n",
      "\n",
      "avg / total       0.98      0.98      0.98      7000\n",
      "\n"
     ]
    }
   ],
   "source": [
    "#%% Print performance metrics like precision, recall, f-1 score\n",
    "\n",
    "print(classification_report(test_df['language'],test_df['prediction'],target_names=languages))"
   ]
  },
  {
   "cell_type": "code",
   "execution_count": 36,
   "metadata": {},
   "outputs": [
    {
     "data": {
      "image/png": "[encoded data removed]",
      "text/plain": [
       "<matplotlib.figure.Figure at 0x1ad6cba4358>"
      ]
     },
     "metadata": {},
     "output_type": "display_data"
    }
   ],
   "source": [
    "#%% Print confusion matrix\n",
    "\n",
    "conf_mat = confusion_matrix(test_df['language'],test_df['prediction'])\n",
    "fig, ax = plt.subplots(figsize=(10,10))\n",
    "sns.heatmap(conf_mat, annot=True, fmt='d',\n",
    "            xticklabels=languages, yticklabels=languages)\n",
    "plt.ylabel('Actual')\n",
    "plt.xlabel('Predicted')\n",
    "plt.show()"
   ]
  },
  {
   "cell_type": "code",
   "execution_count": 37,
   "metadata": {},
   "outputs": [
    {
     "name": "stdout",
     "output_type": "stream",
     "text": [
      "Time taken to read files and rank features based on frequency is 338 seconds\n",
      "Time taken to create training input dataframe is 114 seconds\n",
      "Time taken to create random forest model is 54 seconds\n",
      "Time taken to create test dataframe is 28 seconds\n",
      "Time taken to predict test classes is 1 seconds\n"
     ]
    }
   ],
   "source": [
    "print (\"Time taken to read files and rank features based on frequency is \"+str(int(time_taken_read))+\" seconds\")\n",
    "print (\"Time taken to create training input dataframe is \"+str(int(time_taken_train_df))+\" seconds\")\n",
    "print (\"Time taken to create random forest model is \"+str(int(time_taken_rf))+\" seconds\")\n",
    "print (\"Time taken to create test dataframe is \"+str(int(time_taken_test_df))+\" seconds\")\n",
    "print (\"Time taken to predict test classes is \"+str(int(time_taken_score))+\" seconds\")"
   ]
  },
  {
   "cell_type": "code",
   "execution_count": null,
   "metadata": {},
   "outputs": [],
   "source": []
  }
 ],
 "metadata": {
  "kernelspec": {
   "display_name": "Python 3",
   "language": "python",
   "name": "python3"
  },
  "language_info": {
   "codemirror_mode": {
    "name": "ipython",
    "version": 3
   },
   "file_extension": ".py",
   "mimetype": "text/x-python",
   "name": "python",
   "nbconvert_exporter": "python",
   "pygments_lexer": "ipython3",
   "version": "3.6.4"
  }
 },
 "nbformat": 4,
 "nbformat_minor": 2
}
